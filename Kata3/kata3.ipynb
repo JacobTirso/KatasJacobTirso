{
 "cells": [
  {
   "cell_type": "markdown",
   "metadata": {},
   "source": [
    "Ejercicio 1 Asteroide a 49Km/s"
   ]
  },
  {
   "cell_type": "code",
   "execution_count": 3,
   "metadata": {},
   "outputs": [
    {
     "name": "stdout",
     "output_type": "stream",
     "text": [
      "Advertencia: Asteroide acercandose a 26 Km/s\n"
     ]
    }
   ],
   "source": [
    "asteroide = 26\n",
    "\n",
    "if asteroide > 25:\n",
    "    print (\"Advertencia: Asteroide acercandose a\",(asteroide),\"Km/s\")\n",
    "else:\n",
    "    print (\"Ninguna amezana cercana\")"
   ]
  },
  {
   "cell_type": "markdown",
   "metadata": {},
   "source": [
    "Ejercicio 2 Asteroide a 19 Km/s"
   ]
  },
  {
   "cell_type": "code",
   "execution_count": 6,
   "metadata": {},
   "outputs": [
    {
     "name": "stdout",
     "output_type": "stream",
     "text": [
      "Advertencia: Asteroide acercandose a 26 Km/s\n"
     ]
    }
   ],
   "source": [
    "asteroide = 26\n",
    "\n",
    "if asteroide > 25:\n",
    "    print (\"Advertencia: Asteroide acercandose a\",(asteroide),\"Km/s\")\n",
    "elif asteroide >= 20:\n",
    "    print (\"Asteroide visible en el cielo, ¡Pide un deseo!\")\n",
    "else:\n",
    "    print (\"Ninguna amezana cercana\")"
   ]
  },
  {
   "cell_type": "markdown",
   "metadata": {},
   "source": [
    "Ejercicio 3 Asteroride con velocidad y tamaño"
   ]
  },
  {
   "cell_type": "code",
   "execution_count": 49,
   "metadata": {},
   "outputs": [
    {
     "name": "stdout",
     "output_type": "stream",
     "text": [
      "Ninguna amezana cercana\n"
     ]
    }
   ],
   "source": [
    "asteroide_velocidad = 19\n",
    "asteroide_tamaño = 24\n",
    "\n",
    "if asteroide_velocidad > 25 and asteroide_tamaño > 25 :\n",
    "    print (\"Advertencia: Asteroide de tamaño\",(asteroide_tamaño),\"mts, acercandose a\",(asteroide_velocidad),\"Km/s \\n Tome sus precauciones\")\n",
    "elif asteroide_tamaño == 25 or asteroide_tamaño == 25 :\n",
    "    print (\"Necesario Monitorea asteroide con velocidad y tamaño significantes\")\n",
    "elif asteroide_velocidad >= 20 and asteroide_velocidad < 25 and asteroide_tamaño < 25:\n",
    "    print (\"Asteroide visible en el cielo, ¡Pide un deseo!\")\n",
    "else:\n",
    "    print (\"Ninguna amezana cercana\")"
   ]
  },
  {
   "cell_type": "code",
   "execution_count": null,
   "metadata": {},
   "outputs": [],
   "source": []
  }
 ],
 "metadata": {
  "interpreter": {
   "hash": "7f7b1b961d88fe7491addc9492fe671467fb85e2c0e65c08ab80b88ed41b782f"
  },
  "kernelspec": {
   "display_name": "Python 3.10.2 64-bit (windows store)",
   "language": "python",
   "name": "python3"
  },
  "language_info": {
   "codemirror_mode": {
    "name": "ipython",
    "version": 3
   },
   "file_extension": ".py",
   "mimetype": "text/x-python",
   "name": "python",
   "nbconvert_exporter": "python",
   "pygments_lexer": "ipython3",
   "version": "3.10.2"
  },
  "orig_nbformat": 4
 },
 "nbformat": 4,
 "nbformat_minor": 2
}
