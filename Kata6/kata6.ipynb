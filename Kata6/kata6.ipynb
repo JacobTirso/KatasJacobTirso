{
 "cells": [
  {
   "cell_type": "markdown",
   "metadata": {},
   "source": [
    "1. Lista de planetas"
   ]
  },
  {
   "cell_type": "code",
   "execution_count": null,
   "metadata": {},
   "outputs": [],
   "source": [
    "planets = ['Mercurio', 'Venus', 'Tierra', 'Marte', 'Jupiter', 'Saturno', 'Urano', 'Neptuno']\n"
   ]
  },
  {
   "cell_type": "markdown",
   "metadata": {},
   "source": [
    "1.2 Agregando a Pluton y mostar numero de elementos de lista"
   ]
  },
  {
   "cell_type": "code",
   "execution_count": null,
   "metadata": {},
   "outputs": [],
   "source": [
    "planets.append('Pluton')\n",
    "print(\"Ultimo planeta aggregado =\", planets[-1])"
   ]
  },
  {
   "cell_type": "markdown",
   "metadata": {},
   "source": [
    "2. Solicitar datos de lista"
   ]
  },
  {
   "cell_type": "code",
   "execution_count": 21,
   "metadata": {},
   "outputs": [
    {
     "name": "stdout",
     "output_type": "stream",
     "text": [
      "Ingresa nombre de planeta\n",
      "Los planetas mas cercanos al sol antes de tu eleccion son: ['Mercurio', 'Venus']\n",
      "Los planetas mas cercanos al sol antes de tu eleccion son: ['Marte', 'Jupiter', 'Saturno', 'Urano', 'Neptuno', 'Pluton', 'Pluton', 'Pluton']\n"
     ]
    }
   ],
   "source": [
    "print(\"Ingresa nombre de planeta\")\n",
    "planeta_solicitado = input(\"Ingresa nombre de planeta\")\n",
    "planeta_elegido = planets.index(planeta_solicitado)\n",
    "planeta_cercano = planets[0:planeta_elegido]\n",
    "planeta_lejano = planets[planeta_elegido + 1:]\n",
    "print(\"Los planetas mas cercanos al sol antes de tu eleccion son:\", planeta_cercano)\n",
    "print(\"Los planetas mas cercanos al sol antes de tu eleccion son:\", planeta_lejano)\n",
    "\n"
   ]
  }
 ],
 "metadata": {
  "interpreter": {
   "hash": "7f7b1b961d88fe7491addc9492fe671467fb85e2c0e65c08ab80b88ed41b782f"
  },
  "kernelspec": {
   "display_name": "Python 3.10.2 64-bit (windows store)",
   "language": "python",
   "name": "python3"
  },
  "language_info": {
   "codemirror_mode": {
    "name": "ipython",
    "version": 3
   },
   "file_extension": ".py",
   "mimetype": "text/x-python",
   "name": "python",
   "nbconvert_exporter": "python",
   "pygments_lexer": "ipython3",
   "version": "3.10.2"
  },
  "orig_nbformat": 4
 },
 "nbformat": 4,
 "nbformat_minor": 2
}
