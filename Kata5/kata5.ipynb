{
 "cells": [
  {
   "cell_type": "markdown",
   "metadata": {},
   "source": [
    "1. Distancia entre planetas"
   ]
  },
  {
   "cell_type": "code",
   "execution_count": null,
   "metadata": {},
   "outputs": [],
   "source": [
    "Distancia_tierra = 149597870\n",
    "Distancia_jupiter= 778547200\n",
    "\n",
    "x = Distancia_jupiter - Distancia_tierra\n",
    "xy = x *0.621\n",
    "\n",
    "print(\"la distancia entre Jupiter y La Tierra es\",xy,\"millas\")"
   ]
  },
  {
   "cell_type": "markdown",
   "metadata": {},
   "source": [
    "2. ingresar don valores y calcula distancia entre ellos"
   ]
  },
  {
   "cell_type": "code",
   "execution_count": null,
   "metadata": {},
   "outputs": [],
   "source": [
    "print(\"ingresa distancia al sol de primer planeta\")\n",
    "variable = input(\"Planeta 1\")\n",
    "print(\"ingresa distancia al sol de segundo planeta\")\n",
    "variable2 = input(\"Planeta 2\")\n",
    "variable = int(variable)\n",
    "variable2 = int(variable2)\n",
    "distancia= variable2 - variable\n",
    "distancia_millas= distancia *0.621\n",
    "print(\"La distancia entre planetas es\",distancia_millas, \"millas\")"
   ]
  },
  {
   "cell_type": "code",
   "execution_count": null,
   "metadata": {},
   "outputs": [],
   "source": []
  }
 ],
 "metadata": {
  "interpreter": {
   "hash": "7f7b1b961d88fe7491addc9492fe671467fb85e2c0e65c08ab80b88ed41b782f"
  },
  "kernelspec": {
   "display_name": "Python 3.10.2 64-bit (windows store)",
   "language": "python",
   "name": "python3"
  },
  "language_info": {
   "codemirror_mode": {
    "name": "ipython",
    "version": 3
   },
   "file_extension": ".py",
   "mimetype": "text/x-python",
   "name": "python",
   "nbconvert_exporter": "python",
   "pygments_lexer": "ipython3",
   "version": "3.10.2"
  },
  "orig_nbformat": 4
 },
 "nbformat": 4,
 "nbformat_minor": 2
}
