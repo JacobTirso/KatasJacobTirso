{
 "cells": [
  {
   "cell_type": "markdown",
   "metadata": {},
   "source": [
    "1. Generar funcion"
   ]
  },
  {
   "cell_type": "code",
   "execution_count": null,
   "metadata": {},
   "outputs": [],
   "source": [
    "def Niveles_de_tanques(Tanque_1, Tanque_2, Tanque_3):\n",
    "    promedio_total = (Tanque_1 + Tanque_2 + Tanque_3) / 3\n",
    "    return f\"\"\"Reporte final de tanques:\n",
    "    Total Average: {promedio_total}%\n",
    "    Tanque 1: {Tanque_1}%\n",
    "    Tanque 2: {Tanque_2}%\n",
    "    Tanque 3: {Tanque_3}% \n",
    "    \"\"\"\n",
    "\n"
   ]
  },
  {
   "cell_type": "markdown",
   "metadata": {},
   "source": [
    "2. llamado de funcion (Tanques vacios)"
   ]
  },
  {
   "cell_type": "code",
   "execution_count": null,
   "metadata": {},
   "outputs": [],
   "source": [
    "Niveles_de_tanques(0,0,0)\n"
   ]
  },
  {
   "cell_type": "markdown",
   "metadata": {},
   "source": [
    "3. funcion de promedio "
   ]
  },
  {
   "cell_type": "code",
   "execution_count": 28,
   "metadata": {},
   "outputs": [],
   "source": [
    "def promedio(values):\n",
    "    suma_valor = sum(values)\n",
    "    numero_tanques = len(values)\n",
    "    return suma_valor / numero_tanques\n",
    "\n",
    "    \n"
   ]
  },
  {
   "cell_type": "code",
   "execution_count": 30,
   "metadata": {},
   "outputs": [
    {
     "data": {
      "text/plain": [
       "81.2"
      ]
     },
     "execution_count": 30,
     "metadata": {},
     "output_type": "execute_result"
    }
   ],
   "source": [
    "promedio([56,87,98,65,100])\n"
   ]
  },
  {
   "cell_type": "markdown",
   "metadata": {},
   "source": [
    "Ejercicio 2"
   ]
  },
  {
   "cell_type": "code",
   "execution_count": 7,
   "metadata": {},
   "outputs": [
    {
     "name": "stdout",
     "output_type": "stream",
     "text": [
      "\n",
      "    Misión a Marte\n",
      "    Tiempo de vuelo total: 5569 dias\n",
      "    Deposito de gasolina: 740000 galones\n",
      "    \n"
     ]
    }
   ],
   "source": [
    "def reporte_mision(lanzamiento, tiempo_vuelo, destino, tanque_11, tanque_12):\n",
    "    return f\"\"\"\n",
    "    Misión a {destino}\n",
    "    Tiempo de vuelo total: {lanzamiento + tiempo_vuelo} dias\n",
    "    Deposito de gasolina: {tanque_11 + tanque_12} galones\n",
    "    \"\"\"\n",
    "\n",
    "print(reporte_mision(44, 5525, \"Marte\", 140000, 600000))"
   ]
  },
  {
   "cell_type": "code",
   "execution_count": 19,
   "metadata": {},
   "outputs": [],
   "source": [
    "def reporte_mision2(destino, *dias, **reservas_gasolina):\n",
    "    return f\"\"\"\n",
    "    Mision a {destino}\n",
    "    Tiempo de vuelo total: {sum(dias)} dias\n",
    "    Deposito de gasolina: {sum(reservas_gasolina.values())} Galones\n",
    "    \"\"\"\n"
   ]
  },
  {
   "cell_type": "code",
   "execution_count": 20,
   "metadata": {},
   "outputs": [
    {
     "data": {
      "text/plain": [
       "'\\n    Mision a La Luna\\n    Tiempo de vuelo total: 53 dias\\n    Deposito de gasolina: 145 Galones\\n    '"
      ]
     },
     "execution_count": 20,
     "metadata": {},
     "output_type": "execute_result"
    }
   ],
   "source": [
    "reporte_mision2('La Luna',53,Tanque_Principal=56,Tanque_secundario=89)\n"
   ]
  }
 ],
 "metadata": {
  "interpreter": {
   "hash": "7f7b1b961d88fe7491addc9492fe671467fb85e2c0e65c08ab80b88ed41b782f"
  },
  "kernelspec": {
   "display_name": "Python 3.10.2 64-bit (windows store)",
   "language": "python",
   "name": "python3"
  },
  "language_info": {
   "codemirror_mode": {
    "name": "ipython",
    "version": 3
   },
   "file_extension": ".py",
   "mimetype": "text/x-python",
   "name": "python",
   "nbconvert_exporter": "python",
   "pygments_lexer": "ipython3",
   "version": "3.10.2"
  },
  "orig_nbformat": 4
 },
 "nbformat": 4,
 "nbformat_minor": 2
}
